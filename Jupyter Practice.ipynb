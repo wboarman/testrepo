{
 "cells": [
  {
   "cell_type": "markdown",
   "metadata": {},
   "source": [
    "My Jupyter Notebook on IBM Watson Studio\\\n",
    "(I couldn't get Watson Studio to work. The page keeps loading as unavailable. So I'm using GitHub and Jupyter Notebooks)"
   ]
  },
  {
   "cell_type": "markdown",
   "metadata": {},
   "source": [
    "<b>Wade Boarman</b>\\\n",
    "<span>Project Manager</span>"
   ]
  },
  {
   "cell_type": "markdown",
   "metadata": {},
   "source": [
    "<i>I'm interested in data science because data is everywhere and very useful. Without the knowledge of how to use it, I will miss career oportunities. It is also very interesting and fun to learn.</i>"
   ]
  },
  {
   "cell_type": "markdown",
   "metadata": {},
   "source": [
    "<h3>The code below with define variables and preform a simple mathmatical equation from that</H3>"
   ]
  },
  {
   "cell_type": "code",
   "execution_count": 4,
   "metadata": {},
   "outputs": [
    {
     "data": {
      "text/plain": [
       "15"
      ]
     },
     "execution_count": 4,
     "metadata": {},
     "output_type": "execute_result"
    }
   ],
   "source": [
    "x = 2\n",
    "y = 5\n",
    "z = 25\n",
    "\n",
    "z - (x * y)"
   ]
  },
  {
   "cell_type": "markdown",
   "metadata": {},
   "source": [
    "<ol>\n",
    "    <li>This,</li>\n",
    "    <li>Class,</li> \n",
    "    <li>Is,</li>\n",
    "    <li><s>A lot</s> <b>So Much</b>,</li>\n",
    "    <li><s>of</s></li>\n",
    "    <li>Fun</li>\n",
    "</ol>\n",
    "\n",
    "<hr></hr>\n",
    "\n",
    "<a href=\"www.google.com\">Google</a>"
   ]
  },
  {
   "cell_type": "code",
   "execution_count": null,
   "metadata": {},
   "outputs": [],
   "source": []
  },
  {
   "cell_type": "code",
   "execution_count": null,
   "metadata": {},
   "outputs": [],
   "source": []
  }
 ],
 "metadata": {
  "kernelspec": {
   "display_name": "Python 3",
   "language": "python",
   "name": "python3"
  },
  "language_info": {
   "codemirror_mode": {
    "name": "ipython",
    "version": 3
   },
   "file_extension": ".py",
   "mimetype": "text/x-python",
   "name": "python",
   "nbconvert_exporter": "python",
   "pygments_lexer": "ipython3",
   "version": "3.8.3"
  }
 },
 "nbformat": 4,
 "nbformat_minor": 4
}
